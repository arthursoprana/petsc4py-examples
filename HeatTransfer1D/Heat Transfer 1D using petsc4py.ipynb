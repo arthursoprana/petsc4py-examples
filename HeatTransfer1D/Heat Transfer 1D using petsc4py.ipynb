{
 "cells": [
  {
   "cell_type": "markdown",
   "metadata": {},
   "source": [
    "Heat Transfer 1D\n",
    "================"
   ]
  },
  {
   "cell_type": "code",
   "execution_count": 1,
   "metadata": {
    "collapsed": false
   },
   "outputs": [],
   "source": [
    "# NOT WORKING\n",
    "#%load_ext Cython\n",
    "#%%cython -f -n CavityFlow2D --lib=petsc --lib=python3 \n",
    "#-LD:\\\\Work\\\\Miniconda3\\\\envs\\\\petsc_debug\\\\Library\\\\lib \n",
    "#-I=./ -ID:\\\\Work\\\\Miniconda3\\\\envs\\\\petsc_debug\\\\lib\\\\site-packages\\\\petsc4py\\\\include \n",
    "#-ID:\\\\Work\\\\Miniconda3\\\\envs\\\\petsc_debug\\\\Library\\\\include\\\\ \n",
    "#-ID:\\\\Work\\\\Miniconda3\\\\envs\\\\petsc_debug\\\\Library\\\\include\\\\petsc\\\\mpiuni \n",
    "#--link-args=-debug --compile-args=-Zi --compile-args=/Od\n",
    "#%save CavityFlow2D.pyx\n",
    "\n",
    "file_content='''\n",
    "from petsc4py.PETSc cimport Vec,  PetscVec\n",
    "from petsc4py.PETSc cimport DM,   PetscDM\n",
    "from petsc4py.PETSc cimport SNES, PetscSNES\n",
    "\n",
    "from petsc4py.PETSc import Error\n",
    "\n",
    "cdef extern from \"HeatTransfer1Dimpl.h\":\n",
    "    ctypedef struct Params:\n",
    "        double temperature_left_, temperature_right_, conductivity_\n",
    "    int FormInitGuess(PetscDM da, PetscVec x, Params *p)\n",
    "    int FormFunction (PetscDM da, PetscVec x, PetscVec F, Params *p)\n",
    "\n",
    "def formInitGuess(Vec x, DM da, double temperature_left_, double temperature_right_, double conductivity_):\n",
    "    cdef int ierr\n",
    "    cdef Params p = {\"temperature_left_\" : temperature_left_, \"temperature_right_\" : temperature_right_, \"conductivity_\" : conductivity_}\n",
    "    ierr = FormInitGuess(da.dm, x.vec, &p)\n",
    "    if ierr != 0: raise Error(ierr)\n",
    "\n",
    "def formFunction(SNES snes, Vec x, Vec f, DM da, double temperature_left_, double temperature_right_, double conductivity_):\n",
    "    cdef int ierr\n",
    "    cdef Params p = {\"temperature_left_\" : temperature_left_, \"temperature_right_\" : temperature_right_, \"conductivity_\" : conductivity_}\n",
    "\n",
    "    ierr = FormFunction(da.dm, x.vec, f.vec, &p)\n",
    "    if ierr != 0: raise Error(ierr)\n",
    "'''\n",
    "\n",
    "text_file = open(\"HeatTransfer1D.pyx\", \"w\")\n",
    "\n",
    "text_file.write(file_content)\n",
    "\n",
    "text_file.close()"
   ]
  },
  {
   "cell_type": "code",
   "execution_count": 2,
   "metadata": {
    "collapsed": false
   },
   "outputs": [
    {
     "name": "stdout",
     "output_type": "stream",
     "text": [
      "inside config\n",
      "['D:/Miniconda3/envs/petsc_debug\\\\Library\\\\include', 'D:/Miniconda3/envs/petsc_debug\\\\Library\\\\include\\\\petsc\\\\mpiuni', 'D:\\\\Miniconda3\\\\envs\\\\petsc_debug\\\\lib\\\\site-packages\\\\petsc4py\\\\include']\n",
      "running build_ext\n",
      "running build_src\n",
      "build_src\n",
      "building extension \"HeatTransfer1D\" sources\n",
      "cythonc:> .\\HeatTransfer1D.c\n",
      "build_src: building npy-pkg config files\n",
      "No module named 'numpy.distutils._msvccompiler' in numpy.distutils; trying from distutils\n",
      "customize MSVCCompiler\n",
      "customize MSVCCompiler using build_ext\n",
      "building 'HeatTransfer1D' extension\n",
      "compiling C sources\n",
      "C:\\Program Files (x86)\\Microsoft Visual Studio 14.0\\VC\\BIN\\x86_amd64\\cl.exe /c /nologo /Ox /W3 /GL /DNDEBUG /MD -ID:\\Miniconda3\\envs\\petsc_debug\\Library\\include -ID:\\Miniconda3\\envs\\petsc_debug\\Library\\include\\petsc\\mpiuni -ID:\\Miniconda3\\envs\\petsc_debug\\lib\\site-packages\\petsc4py\\include -I. -ID:\\Miniconda3\\envs\\petsc_debug\\lib\\site-packages\\numpy\\core\\include -ID:\\Miniconda3\\envs\\petsc_debug\\include -ID:\\Miniconda3\\envs\\petsc_debug\\include -I\"C:\\Program Files (x86)\\Microsoft Visual Studio 14.0\\VC\\INCLUDE\" -I\"C:\\Program Files (x86)\\Windows Kits\\10\\include\\10.0.14393.0\\ucrt\" -I\"C:\\Program Files (x86)\\Windows Kits\\NETFXSDK\\4.6.1\\include\\um\" -I\"C:\\Program Files (x86)\\Windows Kits\\10\\include\\10.0.14393.0\\shared\" -I\"C:\\Program Files (x86)\\Windows Kits\\10\\include\\10.0.14393.0\\um\" -I\"C:\\Program Files (x86)\\Windows Kits\\10\\include\\10.0.14393.0\\winrt\" /Tc.\\HeatTransfer1D.c /Fobuild\\temp.win-amd64-3.5\\Release\\.\\HeatTransfer1D.obj -Zi /Od\n",
      "Found executable C:\\Program Files (x86)\\Microsoft Visual Studio 14.0\\VC\\BIN\\x86_amd64\\cl.exe\n",
      "C:\\Program Files (x86)\\Microsoft Visual Studio 14.0\\VC\\BIN\\x86_amd64\\cl.exe /c /nologo /Ox /W3 /GL /DNDEBUG /MD -ID:\\Miniconda3\\envs\\petsc_debug\\Library\\include -ID:\\Miniconda3\\envs\\petsc_debug\\Library\\include\\petsc\\mpiuni -ID:\\Miniconda3\\envs\\petsc_debug\\lib\\site-packages\\petsc4py\\include -I. -ID:\\Miniconda3\\envs\\petsc_debug\\lib\\site-packages\\numpy\\core\\include -ID:\\Miniconda3\\envs\\petsc_debug\\include -ID:\\Miniconda3\\envs\\petsc_debug\\include -I\"C:\\Program Files (x86)\\Microsoft Visual Studio 14.0\\VC\\INCLUDE\" -I\"C:\\Program Files (x86)\\Windows Kits\\10\\include\\10.0.14393.0\\ucrt\" -I\"C:\\Program Files (x86)\\Windows Kits\\NETFXSDK\\4.6.1\\include\\um\" -I\"C:\\Program Files (x86)\\Windows Kits\\10\\include\\10.0.14393.0\\shared\" -I\"C:\\Program Files (x86)\\Windows Kits\\10\\include\\10.0.14393.0\\um\" -I\"C:\\Program Files (x86)\\Windows Kits\\10\\include\\10.0.14393.0\\winrt\" /Tc.\\HeatTransfer1Dimpl.c /Fobuild\\temp.win-amd64-3.5\\Release\\.\\HeatTransfer1Dimpl.obj -Zi /Od\n",
      "C:\\Program Files (x86)\\Microsoft Visual Studio 14.0\\VC\\BIN\\x86_amd64\\link.exe /nologo /INCREMENTAL:NO /LTCG /DLL /MANIFEST:EMBED,ID=2 /MANIFESTUAC:NO /LIBPATH:D:\\Miniconda3\\envs\\petsc_debug\\Library\\lib /LIBPATH:D:\\Miniconda3\\envs\\petsc_debug\\libs /LIBPATH:D:\\Miniconda3\\envs\\petsc_debug\\PCbuild\\amd64 /LIBPATH:\"C:\\Program Files (x86)\\Microsoft Visual Studio 14.0\\VC\\LIB\\amd64\" /LIBPATH:\"C:\\Program Files (x86)\\Windows Kits\\10\\lib\\10.0.14393.0\\ucrt\\x64\" /LIBPATH:\"C:\\Program Files (x86)\\Windows Kits\\NETFXSDK\\4.6.1\\lib\\um\\x64\" /LIBPATH:\"C:\\Program Files (x86)\\Windows Kits\\10\\lib\\10.0.14393.0\\um\\x64\" petsc.lib /EXPORT:PyInit_HeatTransfer1D build\\temp.win-amd64-3.5\\Release\\.\\HeatTransfer1D.obj build\\temp.win-amd64-3.5\\Release\\.\\HeatTransfer1Dimpl.obj /OUT:HeatTransfer1D.cp35-win_amd64.pyd /IMPLIB:build\\temp.win-amd64-3.5\\Release\\.\\HeatTransfer1D.cp35-win_amd64.lib -debug\n",
      "Found executable C:\\Program Files (x86)\\Microsoft Visual Studio 14.0\\VC\\BIN\\x86_amd64\\link.exe\n"
     ]
    }
   ],
   "source": [
    "# First you need to call\n",
    "!python setup.py build_ext --inplace"
   ]
  },
  {
   "cell_type": "code",
   "execution_count": 3,
   "metadata": {
    "collapsed": false
   },
   "outputs": [],
   "source": [
    "import argparse\n",
    "import sys\n",
    "import petsc4py\n",
    "import numpy as np\n",
    "from numpy import mgrid\n",
    "petsc4py.init(sys.argv)\n",
    "from petsc4py import PETSc\n",
    "from matplotlib import pyplot as plt\n",
    "import HeatTransfer1D\n",
    "\n",
    "def get_args():\n",
    "    OptDB = PETSc.Options()\n",
    "    ignore = OptDB.getBool('--help', False)\n",
    "    parser = argparse.ArgumentParser(description='1D Heat Transfer Problem',\n",
    "                                     formatter_class=argparse.ArgumentDefaultsHelpFormatter)\n",
    "    parser.add_argument('--nx', default=32, help='number of grid points in x')\n",
    "    parser.add_argument('--temperature_left',  default=50.0, help='Temperature in the left side of the wall', type=float)\n",
    "    parser.add_argument('--temperature_right', default=10.0, help='Temperature in the right side of the wall', type=float)\n",
    "    parser.add_argument('--conductivity', default=1.0,help='Wall conductivity [W/(m.K)]', type=float)\n",
    "    args, petsc_opts = parser.parse_known_args()\n",
    "\n",
    "    return args\n",
    "\n",
    "def heat_transfer_1D(nx, temperature_left, temperature_right, conductivity):\n",
    "    # create application context\n",
    "    # and PETSc nonlinear solver\n",
    "    snes = PETSc.SNES().create()\n",
    "    da = PETSc.DMDA().create([nx],dof=1, stencil_width=1, stencil_type='star')\n",
    "\n",
    "    # set up solution vector\n",
    "    F = da.createGlobalVec()\n",
    "    snes.setFunction(HeatTransfer1D.formFunction, F,\n",
    "                     args=(da, temperature_left, temperature_right, conductivity))\n",
    "\n",
    "    x = da.createGlobalVec()\n",
    "    HeatTransfer1D.formInitGuess(x, da, temperature_left, temperature_right, conductivity)\n",
    "\n",
    "    snes.setDM(da)\n",
    "    snes.setFromOptions()\n",
    "\n",
    "    # solve the nonlinear problem\n",
    "    snes.solve(None, x)\n",
    "    return x"
   ]
  },
  {
   "cell_type": "markdown",
   "metadata": {},
   "source": [
    "Let's get the process ID so that we can attach a debug later."
   ]
  },
  {
   "cell_type": "code",
   "execution_count": 4,
   "metadata": {
    "collapsed": false
   },
   "outputs": [
    {
     "name": "stdout",
     "output_type": "stream",
     "text": [
      "16412\n"
     ]
    }
   ],
   "source": [
    "import os\n",
    "print(os.getpid())"
   ]
  },
  {
   "cell_type": "code",
   "execution_count": 5,
   "metadata": {
    "collapsed": false
   },
   "outputs": [
    {
     "data": {
      "image/png": "[encoded data removed]",
      "text/plain": [
       "<matplotlib.figure.Figure at 0x2120b7ad0b8>"
      ]
     },
     "metadata": {},
     "output_type": "display_data"
    }
   ],
   "source": [
    "nx = 50\n",
    "L = 1.0\n",
    "sol = heat_transfer_1D(nx, 500, 1, 1000.0)\n",
    "T = sol[...]\n",
    "x = np.linspace(0, L, nx)\n",
    "plt.plot(x, T)\n",
    "plt.show()"
   ]
  },
  {
   "cell_type": "markdown",
   "metadata": {},
   "source": [
    "Interacting with the Solver\n",
    "==================="
   ]
  },
  {
   "cell_type": "code",
   "execution_count": 6,
   "metadata": {
    "collapsed": false
   },
   "outputs": [
    {
     "data": {
      "image/png": "[encoded data removed]",
      "text/plain": [
       "<matplotlib.figure.Figure at 0x2120d055160>"
      ]
     },
     "metadata": {},
     "output_type": "display_data"
    }
   ],
   "source": [
    "from petsc4py import PETSc\n",
    "# Viewer not working\n",
    "options = PETSc.Options()\n",
    "options.clear()\n",
    "options.setValue('-snes_monitor', '')\n",
    "#options.setValue('-snes_monitor_solution', '')\n",
    "options.setValue('-pc_type', 'lu')\n",
    "\n",
    "nx = 50\n",
    "L = 1.0\n",
    "sol = heat_transfer_1D(nx, 5, 1, 1000.0)\n",
    "T = sol[...]\n",
    "x = np.linspace(0, L, nx)\n",
    "plt.plot(x, T)\n",
    "plt.show()"
   ]
  },
  {
   "cell_type": "code",
   "execution_count": null,
   "metadata": {
    "collapsed": true
   },
   "outputs": [],
   "source": []
  },
  {
   "cell_type": "code",
   "execution_count": null,
   "metadata": {
    "collapsed": true
   },
   "outputs": [],
   "source": []
  }
 ],
 "metadata": {
  "anaconda-cloud": {},
  "kernelspec": {
   "display_name": "Python [default]",
   "language": "python",
   "name": "python3"
  },
  "language_info": {
   "codemirror_mode": {
    "name": "ipython",
    "version": 3
   },
   "file_extension": ".py",
   "mimetype": "text/x-python",
   "name": "python",
   "nbconvert_exporter": "python",
   "pygments_lexer": "ipython3",
   "version": "3.5.2"
  }
 },
 "nbformat": 4,
 "nbformat_minor": 0
}
