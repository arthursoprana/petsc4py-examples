{
 "cells": [
  {
   "cell_type": "markdown",
   "metadata": {
    "slideshow": {
     "slide_type": "slide"
    }
   },
   "source": [
    "Transient Heat Transfer 1D\n",
    "================"
   ]
  },
  {
   "cell_type": "markdown",
   "metadata": {
    "slideshow": {
     "slide_type": "subslide"
    }
   },
   "source": [
    "Let's get the process ID so that we can attach a debug later."
   ]
  },
  {
   "cell_type": "code",
   "execution_count": 1,
   "metadata": {
    "collapsed": false,
    "slideshow": {
     "slide_type": "slide"
    }
   },
   "outputs": [
    {
     "name": "stdout",
     "output_type": "stream",
     "text": [
      "14568\n"
     ]
    }
   ],
   "source": [
    "import os\n",
    "print(os.getpid())"
   ]
  },
  {
   "cell_type": "code",
   "execution_count": 2,
   "metadata": {
    "collapsed": true,
    "slideshow": {
     "slide_type": "slide"
    }
   },
   "outputs": [],
   "source": [
    "file_content='''\n",
    "from petsc4py.PETSc cimport Vec,  PetscVec\n",
    "from petsc4py.PETSc cimport DM,   PetscDM\n",
    "from petsc4py.PETSc cimport SNES, PetscSNES\n",
    "from petsc4py.PETSc cimport TS,   PetscTS\n",
    "\n",
    "from petsc4py.PETSc import Error\n",
    "\n",
    "cdef extern from \"HeatTransfer1Dimpl.h\":\n",
    "    ctypedef struct Params:\n",
    "        double temperature_left_\n",
    "        double temperature_right_\n",
    "        double conductivity_\n",
    "        double source_term_\n",
    "        double wall_length_\n",
    "        \n",
    "    int FormInitGuess(PetscDM da, PetscVec x, Params *p)\n",
    "    int FormFunction (PetscTS ts, double t, PetscVec X, PetscVec X_t, PetscVec F, Params *p)\n",
    "\n",
    "def formInitGuess(Vec x, DM da, double temperature_left_, \n",
    "    double temperature_right_, double conductivity_, \n",
    "    double source_term_, double wall_length_):\n",
    "    cdef int ierr\n",
    "    cdef Params p = {\n",
    "        \"temperature_left_\" : temperature_left_, \n",
    "        \"temperature_right_\" : temperature_right_, \n",
    "        \"conductivity_\" : conductivity_,\n",
    "        \"source_term_\" : source_term_,\n",
    "        \"wall_length_\" : wall_length_,\n",
    "    }\n",
    "    ierr = FormInitGuess(da.dm, x.vec, &p)\n",
    "    if ierr != 0: raise Error(ierr)\n",
    "\n",
    "def formFunction(TS ts, double t, Vec x, Vec x_t, Vec f, double temperature_left_, \n",
    "    double temperature_right_, double conductivity_, \n",
    "    double source_term_, double wall_length_):\n",
    "    cdef int ierr\n",
    "    cdef Params p = {\n",
    "        \"temperature_left_\" : temperature_left_, \n",
    "        \"temperature_right_\" : temperature_right_, \n",
    "        \"conductivity_\" : conductivity_,\n",
    "        \"source_term_\" : source_term_,\n",
    "        \"wall_length_\" : wall_length_,\n",
    "    }\n",
    "    ierr = FormFunction(ts.ts, t, x.vec, x_t.vec, f.vec, &p)\n",
    "    if ierr != 0: raise Error(ierr)\n",
    "'''\n",
    "\n",
    "text_file = open(\"HeatTransfer1D.pyx\", \"w\")\n",
    "\n",
    "text_file.write(file_content)\n",
    "\n",
    "text_file.close()"
   ]
  },
  {
   "cell_type": "code",
   "execution_count": 3,
   "metadata": {
    "collapsed": false,
    "slideshow": {
     "slide_type": "slide"
    }
   },
   "outputs": [
    {
     "name": "stdout",
     "output_type": "stream",
     "text": [
      "running build_ext\n",
      "running build_src\n",
      "build_src\n",
      "building extension \"HeatTransfer1D\" sources\n",
      "cythonc:> .\\HeatTransfer1D.c\n",
      "build_src: building npy-pkg config files\n",
      "No module named 'numpy.distutils._msvccompiler' in numpy.distutils; trying from distutils\n",
      "customize MSVCCompiler\n",
      "customize MSVCCompiler using build_ext\n",
      "building 'HeatTransfer1D' extension\n",
      "compiling C sources\n",
      "C:\\Program Files (x86)\\Microsoft Visual Studio 14.0\\VC\\BIN\\x86_amd64\\cl.exe /c /nologo /Ox /W3 /GL /DNDEBUG /MD -ID:\\Miniconda3\\envs\\petsc_debug\\Library\\include -ID:\\Miniconda3\\envs\\petsc_debug\\Library\\include\\petsc\\mpiuni -ID:\\Miniconda3\\envs\\petsc_debug\\lib\\site-packages\\petsc4py\\include -I. -ID:\\Miniconda3\\envs\\petsc_debug\\lib\\site-packages\\numpy\\core\\include -ID:\\Miniconda3\\envs\\petsc_debug\\include -ID:\\Miniconda3\\envs\\petsc_debug\\include -I\"C:\\Program Files (x86)\\Microsoft Visual Studio 14.0\\VC\\INCLUDE\" -I\"C:\\Program Files (x86)\\Windows Kits\\10\\include\\10.0.14393.0\\ucrt\" -I\"C:\\Program Files (x86)\\Windows Kits\\NETFXSDK\\4.6.1\\include\\um\" -I\"C:\\Program Files (x86)\\Windows Kits\\10\\include\\10.0.14393.0\\shared\" -I\"C:\\Program Files (x86)\\Windows Kits\\10\\include\\10.0.14393.0\\um\" -I\"C:\\Program Files (x86)\\Windows Kits\\10\\include\\10.0.14393.0\\winrt\" /Tc.\\HeatTransfer1D.c /Fobuild\\temp.win-amd64-3.5\\Release\\.\\HeatTransfer1D.obj -Zi /Od\n",
      "Found executable C:\\Program Files (x86)\\Microsoft Visual Studio 14.0\\VC\\BIN\\x86_amd64\\cl.exe\n",
      "C:\\Program Files (x86)\\Microsoft Visual Studio 14.0\\VC\\BIN\\x86_amd64\\cl.exe /c /nologo /Ox /W3 /GL /DNDEBUG /MD -ID:\\Miniconda3\\envs\\petsc_debug\\Library\\include -ID:\\Miniconda3\\envs\\petsc_debug\\Library\\include\\petsc\\mpiuni -ID:\\Miniconda3\\envs\\petsc_debug\\lib\\site-packages\\petsc4py\\include -I. -ID:\\Miniconda3\\envs\\petsc_debug\\lib\\site-packages\\numpy\\core\\include -ID:\\Miniconda3\\envs\\petsc_debug\\include -ID:\\Miniconda3\\envs\\petsc_debug\\include -I\"C:\\Program Files (x86)\\Microsoft Visual Studio 14.0\\VC\\INCLUDE\" -I\"C:\\Program Files (x86)\\Windows Kits\\10\\include\\10.0.14393.0\\ucrt\" -I\"C:\\Program Files (x86)\\Windows Kits\\NETFXSDK\\4.6.1\\include\\um\" -I\"C:\\Program Files (x86)\\Windows Kits\\10\\include\\10.0.14393.0\\shared\" -I\"C:\\Program Files (x86)\\Windows Kits\\10\\include\\10.0.14393.0\\um\" -I\"C:\\Program Files (x86)\\Windows Kits\\10\\include\\10.0.14393.0\\winrt\" /Tc.\\HeatTransfer1Dimpl.c /Fobuild\\temp.win-amd64-3.5\\Release\\.\\HeatTransfer1Dimpl.obj -Zi /Od\n",
      "C:\\Program Files (x86)\\Microsoft Visual Studio 14.0\\VC\\BIN\\x86_amd64\\link.exe /nologo /INCREMENTAL:NO /LTCG /DLL /MANIFEST:EMBED,ID=2 /MANIFESTUAC:NO /LIBPATH:D:\\Miniconda3\\envs\\petsc_debug\\Library\\lib /LIBPATH:D:\\Miniconda3\\envs\\petsc_debug\\libs /LIBPATH:D:\\Miniconda3\\envs\\petsc_debug\\PCbuild\\amd64 /LIBPATH:\"C:\\Program Files (x86)\\Microsoft Visual Studio 14.0\\VC\\LIB\\amd64\" /LIBPATH:\"C:\\Program Files (x86)\\Windows Kits\\10\\lib\\10.0.14393.0\\ucrt\\x64\" /LIBPATH:\"C:\\Program Files (x86)\\Windows Kits\\NETFXSDK\\4.6.1\\lib\\um\\x64\" /LIBPATH:\"C:\\Program Files (x86)\\Windows Kits\\10\\lib\\10.0.14393.0\\um\\x64\" petsc.lib /EXPORT:PyInit_HeatTransfer1D build\\temp.win-amd64-3.5\\Release\\.\\HeatTransfer1D.obj build\\temp.win-amd64-3.5\\Release\\.\\HeatTransfer1Dimpl.obj /OUT:HeatTransfer1D.cp35-win_amd64.pyd /IMPLIB:build\\temp.win-amd64-3.5\\Release\\.\\HeatTransfer1D.cp35-win_amd64.lib -debug\n",
      "Found executable C:\\Program Files (x86)\\Microsoft Visual Studio 14.0\\VC\\BIN\\x86_amd64\\link.exe\n"
     ]
    }
   ],
   "source": [
    "# First you need to call\n",
    "!python setup.py build_ext --inplace"
   ]
  },
  {
   "cell_type": "code",
   "execution_count": 18,
   "metadata": {
    "collapsed": false,
    "slideshow": {
     "slide_type": "slide"
    }
   },
   "outputs": [
    {
     "data": {
      "image/png": "[encoded data removed]",
      "text/plain": [
       "<matplotlib.figure.Figure at 0x17971f70320>"
      ]
     },
     "metadata": {},
     "output_type": "display_data"
    }
   ],
   "source": [
    "import sys\n",
    "import numpy as np\n",
    "import petsc4py\n",
    "from petsc4py import PETSc\n",
    "from matplotlib import pyplot as plt\n",
    "import HeatTransfer1D\n",
    "\n",
    "petsc4py.init(sys.argv)\n",
    "\n",
    "def transient_heat_transfer_1D(\n",
    "    nx, temperature_left, \n",
    "    temperature_right, \n",
    "    conductivity,\n",
    "    source_term,\n",
    "    wall_length,\n",
    "    final_time,\n",
    "    initial_time_step\n",
    "    ):\n",
    "    \n",
    "    # Time Stepper (TS) for ODE and DAE\n",
    "    # DAE - https://en.wikipedia.org/wiki/Differential_algebraic_equation\n",
    "    # https://www.mcs.anl.gov/petsc/petsc-current/docs/manualpages/TS/\n",
    "    ts = PETSc.TS().create()\n",
    "\n",
    "    # http://www.mcs.anl.gov/petsc/petsc-current/docs/manualpages/DM/index.html\n",
    "    da = PETSc.DMDA().create([nx],dof=1, stencil_width=1, stencil_type='star')\n",
    "    ts.setDM(da)\n",
    "\n",
    "    F = da.createGlobalVec()\n",
    "    \n",
    "    # http://www.mcs.anl.gov/petsc/petsc-current/docs/manualpages/TS/TSSetIFunction.html\n",
    "    ts.setIFunction(HeatTransfer1D.formFunction, F,\n",
    "                     args=(temperature_left, temperature_right, conductivity, source_term, wall_length))\n",
    "\n",
    "    x = da.createGlobalVec()\n",
    "    \n",
    "    HeatTransfer1D.formInitGuess(x, da, temperature_left, temperature_right, conductivity, source_term, wall_length)\n",
    "\n",
    "    # http://www.mcs.anl.gov/petsc/petsc-current/docs/manualpages/TS/TSSetDuration.html\n",
    "    ts.setDuration(max_time=final_time, max_steps=None)\n",
    "    \n",
    "    # http://www.mcs.anl.gov/petsc/petsc-current/docs/manualpages/TS/TSSetExactFinalTime.html\n",
    "    ts.setExactFinalTime(ts.ExactFinalTimeOption.STEPOVER)\n",
    "    \n",
    "    # http://www.mcs.anl.gov/petsc/petsc-current/docs/manualpages/TS/TSSetInitialTimeStep.html\n",
    "    ts.setInitialTimeStep(initial_time=0.0, initial_time_step=initial_time_step)\n",
    "    \n",
    "    # http://www.mcs.anl.gov/petsc/petsc-current/docs/manualpages/TS/TSSetProblemType.html\n",
    "    ts.setProblemType(ts.ProblemType.NONLINEAR)\n",
    "    \n",
    "    # Another way to set the solve type is through PETSc.Options()\n",
    "    #ts.setType(ts.Type.CRANK_NICOLSON)\n",
    "    #ts.setType(ts.Type.THETA)\n",
    "    #ts.setTheta(theta=0.9999)\n",
    "    #ts.setType(ts.Type.EIMEX) # http://www.mcs.anl.gov/petsc/petsc-current/docs/manualpages/TS/TSEIMEX.html\n",
    "    #ts.setType(ts.Type.BDF      )\n",
    "\n",
    "    ts.setFromOptions()\n",
    "\n",
    "    ts.solve(x)\n",
    "\n",
    "    return x\n",
    "\n",
    "options = PETSc.Options()\n",
    "options.clear()\n",
    "\n",
    "dt = 0.001                 # [s]\n",
    "dt_min = 1e-4              # [s]\n",
    "dt_max = 0.1               # [s]\n",
    "\n",
    "#ts_type = \"beuler\"\n",
    "#ts_type = \"pseudo\" # http://www.mcs.anl.gov/petsc/petsc-current/docs/manualpages/TS/TSPSEUDO.html\n",
    "#ts_type = \"cn\"\n",
    "ts_type = \"bdf\"\n",
    "options.setValue('-ts_type', ts_type)\n",
    "\n",
    "options.setValue('-ts_bdf_order', 3) # https://en.wikipedia.org/wiki/Backward_differentiation_formula\n",
    "options.setValue('-ts_adapt_type', 'basic') # basic or none\n",
    "options.setValue('-ts_bdf_adapt', '')\n",
    "options.setValue('-ts_adapt_dt_min', dt_min)\n",
    "options.setValue('-ts_adapt_dt_max', dt_max)\n",
    "options.setValue('-ts_monitor', None)\n",
    "\n",
    "#options.delValue('-ts_bdf_adapt')\n",
    "\n",
    "nx = 1000\n",
    "temperature_left  = 0.0    # [degC]\n",
    "temperature_right = 50.0   # [degC]\n",
    "conductivity = 1.0         # [W/(m.K)]\n",
    "source_term = 100.0          # [W/m3]\n",
    "wall_length = 1.0          # [m]\n",
    "\n",
    "time_intervals = [0.001, 0.01, 0.05, 0.1, 1.0]\n",
    "sols = []\n",
    "for final_time in time_intervals:\n",
    "    sol = transient_heat_transfer_1D(\n",
    "        nx, temperature_left, \n",
    "        temperature_right, \n",
    "        conductivity,\n",
    "        source_term,\n",
    "        wall_length,\n",
    "        final_time,\n",
    "        dt\n",
    "        )\n",
    "    sols.append(sol[...])\n",
    "    \n",
    "x = np.linspace(0, wall_length, nx)\n",
    "for sol in sols:\n",
    "    plt.plot(x, sol)\n",
    "plt.show()"
   ]
  }
 ],
 "metadata": {
  "anaconda-cloud": {},
  "celltoolbar": "Slideshow",
  "kernelspec": {
   "display_name": "Python [default]",
   "language": "python",
   "name": "python3"
  },
  "language_info": {
   "codemirror_mode": {
    "name": "ipython",
    "version": 3
   },
   "file_extension": ".py",
   "mimetype": "text/x-python",
   "name": "python",
   "nbconvert_exporter": "python",
   "pygments_lexer": "ipython3",
   "version": "3.5.2"
  }
 },
 "nbformat": 4,
 "nbformat_minor": 0
}
