{
 "cells": [
  {
   "cell_type": "markdown",
   "metadata": {
    "slideshow": {
     "slide_type": "slide"
    }
   },
   "source": [
    "Transient Heat Transfer 1D\n",
    "================"
   ]
  },
  {
   "cell_type": "markdown",
   "metadata": {
    "slideshow": {
     "slide_type": "subslide"
    }
   },
   "source": [
    "Let's get the process ID so that we can attach a debug later."
   ]
  },
  {
   "cell_type": "code",
   "execution_count": 1,
   "metadata": {
    "collapsed": false,
    "slideshow": {
     "slide_type": "slide"
    }
   },
   "outputs": [
    {
     "name": "stdout",
     "output_type": "stream",
     "text": [
      "14568\n"
     ]
    }
   ],
   "source": [
    "import os\n",
    "print(os.getpid())"
   ]
  },
  {
   "cell_type": "code",
   "execution_count": 2,
   "metadata": {
    "collapsed": true,
    "slideshow": {
     "slide_type": "slide"
    }
   },
   "outputs": [],
   "source": [
    "file_content='''\n",
    "from petsc4py.PETSc cimport Vec,  PetscVec\n",
    "from petsc4py.PETSc cimport DM,   PetscDM\n",
    "from petsc4py.PETSc cimport SNES, PetscSNES\n",
    "from petsc4py.PETSc cimport TS,   PetscTS\n",
    "\n",
    "from petsc4py.PETSc import Error\n",
    "\n",
    "cdef extern from \"HeatTransfer1Dimpl.h\":\n",
    "    ctypedef struct Params:\n",
    "        double temperature_left_\n",
    "        double temperature_right_\n",
    "        double conductivity_\n",
    "        double source_term_\n",
    "        double wall_length_\n",
    "        \n",
    "    int FormInitGuess(PetscDM da, PetscVec x, Params *p)\n",
    "    int FormFunction (PetscTS ts, double t, PetscVec X, PetscVec X_t, PetscVec F, Params *p)\n",
    "\n",
    "def formInitGuess(Vec x, DM da, double temperature_left_, \n",
    "    double temperature_right_, double conductivity_, \n",
    "    double source_term_, double wall_length_):\n",
    "    cdef int ierr\n",
    "    cdef Params p = {\n",
    "        \"temperature_left_\" : temperature_left_, \n",
    "        \"temperature_right_\" : temperature_right_, \n",
    "        \"conductivity_\" : conductivity_,\n",
    "        \"source_term_\" : source_term_,\n",
    "        \"wall_length_\" : wall_length_,\n",
    "    }\n",
    "    ierr = FormInitGuess(da.dm, x.vec, &p)\n",
    "    if ierr != 0: raise Error(ierr)\n",
    "\n",
    "def formFunction(TS ts, double t, Vec x, Vec x_t, Vec f, double temperature_left_, \n",
    "    double temperature_right_, double conductivity_, \n",
    "    double source_term_, double wall_length_):\n",
    "    cdef int ierr\n",
    "    cdef Params p = {\n",
    "        \"temperature_left_\" : temperature_left_, \n",
    "        \"temperature_right_\" : temperature_right_, \n",
    "        \"conductivity_\" : conductivity_,\n",
    "        \"source_term_\" : source_term_,\n",
    "        \"wall_length_\" : wall_length_,\n",
    "    }\n",
    "    ierr = FormFunction(ts.ts, t, x.vec, x_t.vec, f.vec, &p)\n",
    "    if ierr != 0: raise Error(ierr)\n",
    "'''\n",
    "\n",
    "text_file = open(\"HeatTransfer1D.pyx\", \"w\")\n",
    "\n",
    "text_file.write(file_content)\n",
    "\n",
    "text_file.close()"
   ]
  },
  {
   "cell_type": "code",
   "execution_count": 1,
   "metadata": {
    "collapsed": false,
    "slideshow": {
     "slide_type": "slide"
    }
   },
   "outputs": [
    {
     "name": "stdout",
     "output_type": "stream",
     "text": [
      "running build_ext\n",
      "running build_src\n",
      "build_src\n",
      "building extension \"HeatTransfer1D\" sources\n",
      "build_src: building npy-pkg config files\n",
      "No module named 'numpy.distutils._msvccompiler' in numpy.distutils; trying from distutils\n",
      "customize MSVCCompiler\n",
      "customize MSVCCompiler using build_ext\n"
     ]
    }
   ],
   "source": [
    "# First you need to call\n",
    "!python setup.py build_ext --inplace"
   ]
  },
  {
   "cell_type": "code",
   "execution_count": 16,
   "metadata": {
    "collapsed": false,
    "slideshow": {
     "slide_type": "slide"
    }
   },
   "outputs": [
    {
     "name": "stderr",
     "output_type": "stream",
     "text": [
      "Exception ignored in: 'petsc4py.PETSc.traceback'\n",
      "SystemError: <built-in method insert of list object at 0x000001EADC589B48> returned a result with an error set\n",
      "Exception ignored in: 'petsc4py.PETSc.traceback'\n",
      "SystemError: <built-in method insert of list object at 0x000001EADC589B48> returned a result with an error set\n",
      "Exception ignored in: 'petsc4py.PETSc.traceback'\n",
      "SystemError: <built-in method insert of list object at 0x000001EADC589B48> returned a result with an error set\n",
      "Exception ignored in: 'petsc4py.PETSc.traceback'\n",
      "SystemError: <built-in method insert of list object at 0x000001EADC589B48> returned a result with an error set\n",
      "Exception ignored in: 'petsc4py.PETSc.traceback'\n",
      "SystemError: <built-in method insert of list object at 0x000001EADC589B48> returned a result with an error set\n",
      "Exception ignored in: 'petsc4py.PETSc.traceback'\n",
      "SystemError: <built-in method insert of list object at 0x000001EADC589B48> returned a result with an error set\n",
      "Exception ignored in: 'petsc4py.PETSc.traceback'\n",
      "SystemError: <built-in method insert of list object at 0x000001EADC589B48> returned a result with an error set\n",
      "Exception ignored in: 'petsc4py.PETSc.traceback'\n",
      "SystemError: <built-in method insert of list object at 0x000001EADC589B48> returned a result with an error set\n",
      "Exception ignored in: 'petsc4py.PETSc.traceback'\n",
      "SystemError: <built-in method insert of list object at 0x000001EADC589B48> returned a result with an error set\n",
      "Exception ignored in: 'petsc4py.PETSc.traceback'\n",
      "SystemError: <built-in method insert of list object at 0x000001EADC589B48> returned a result with an error set\n",
      "Exception ignored in: 'petsc4py.PETSc.traceback'\n",
      "SystemError: <built-in method insert of list object at 0x000001EADC589B48> returned a result with an error set\n",
      "Exception ignored in: 'petsc4py.PETSc.traceback'\n",
      "SystemError: <built-in method insert of list object at 0x000001EADC589B48> returned a result with an error set\n",
      "Exception ignored in: 'petsc4py.PETSc.traceback'\n",
      "SystemError: <built-in method insert of list object at 0x000001EADC589B48> returned a result with an error set\n",
      "Exception ignored in: 'petsc4py.PETSc.traceback'\n",
      "SystemError: <built-in method insert of list object at 0x000001EADC589B48> returned a result with an error set\n",
      "Exception ignored in: 'petsc4py.PETSc.traceback'\n",
      "SystemError: <built-in method insert of list object at 0x000001EADC589B48> returned a result with an error set\n",
      "Exception ignored in: 'petsc4py.PETSc.traceback'\n",
      "SystemError: <built-in method insert of list object at 0x000001EADC589B48> returned a result with an error set\n",
      "Exception ignored in: 'petsc4py.PETSc.traceback'\n",
      "SystemError: <built-in method insert of list object at 0x000001EADC589B48> returned a result with an error set\n",
      "Exception ignored in: 'petsc4py.PETSc.traceback'\n",
      "SystemError: <built-in method insert of list object at 0x000001EADC589B48> returned a result with an error set\n",
      "Exception ignored in: 'petsc4py.PETSc.traceback'\n",
      "SystemError: <built-in method insert of list object at 0x000001EADC589B48> returned a result with an error set\n",
      "Exception ignored in: 'petsc4py.PETSc.traceback'\n",
      "SystemError: <built-in method insert of list object at 0x000001EADC589B48> returned a result with an error set\n",
      "Exception ignored in: 'petsc4py.PETSc.traceback'\n",
      "SystemError: <built-in method insert of list object at 0x000001EADC589B48> returned a result with an error set\n",
      "Exception ignored in: 'petsc4py.PETSc.traceback'\n",
      "SystemError: <built-in method insert of list object at 0x000001EADC589B48> returned a result with an error set\n",
      "Exception ignored in: 'petsc4py.PETSc.traceback'\n",
      "SystemError: <built-in method insert of list object at 0x000001EADC589B48> returned a result with an error set\n",
      "Exception ignored in: 'petsc4py.PETSc.traceback'\n",
      "SystemError: <built-in method insert of list object at 0x000001EADC589B48> returned a result with an error set\n",
      "Exception ignored in: 'petsc4py.PETSc.traceback'\n",
      "SystemError: <built-in method insert of list object at 0x000001EADC589B48> returned a result with an error set\n",
      "Exception ignored in: 'petsc4py.PETSc.traceback'\n",
      "SystemError: <built-in method insert of list object at 0x000001EADC589B48> returned a result with an error set\n",
      "Exception ignored in: 'petsc4py.PETSc.traceback'\n",
      "SystemError: <built-in method insert of list object at 0x000001EADC589B48> returned a result with an error set\n",
      "Exception ignored in: 'petsc4py.PETSc.traceback'\n",
      "SystemError: <built-in method insert of list object at 0x000001EADC589B48> returned a result with an error set\n",
      "Exception ignored in: 'petsc4py.PETSc.traceback'\n",
      "SystemError: <built-in method insert of list object at 0x000001EADC589B48> returned a result with an error set\n",
      "Exception ignored in: 'petsc4py.PETSc.traceback'\n",
      "SystemError: <built-in method insert of list object at 0x000001EADC589B48> returned a result with an error set\n",
      "Exception ignored in: 'petsc4py.PETSc.traceback'\n",
      "SystemError: <built-in method insert of list object at 0x000001EADC589B48> returned a result with an error set\n",
      "Exception ignored in: 'petsc4py.PETSc.traceback'\n",
      "SystemError: <built-in method insert of list object at 0x000001EADC589B48> returned a result with an error set\n",
      "Exception ignored in: 'petsc4py.PETSc.traceback'\n",
      "SystemError: <built-in method insert of list object at 0x000001EADC589B48> returned a result with an error set\n",
      "Exception ignored in: 'petsc4py.PETSc.traceback'\n",
      "SystemError: <built-in method insert of list object at 0x000001EADC589B48> returned a result with an error set\n",
      "Exception ignored in: 'petsc4py.PETSc.traceback'\n",
      "SystemError: <built-in method insert of list object at 0x000001EADC589B48> returned a result with an error set\n",
      "Exception ignored in: 'petsc4py.PETSc.traceback'\n",
      "SystemError: <built-in method insert of list object at 0x000001EADC589B48> returned a result with an error set\n",
      "Exception ignored in: 'petsc4py.PETSc.traceback'\n",
      "SystemError: <built-in method insert of list object at 0x000001EADC589B48> returned a result with an error set\n",
      "Exception ignored in: 'petsc4py.PETSc.traceback'\n",
      "SystemError: <built-in method insert of list object at 0x000001EADC589B48> returned a result with an error set\n",
      "Exception ignored in: 'petsc4py.PETSc.traceback'\n",
      "SystemError: <built-in method insert of list object at 0x000001EADC589B48> returned a result with an error set\n"
     ]
    },
    {
     "data": {
      "image/png": "[encoded data removed]",
      "text/plain": [
       "<matplotlib.figure.Figure at 0x1eaddd051d0>"
      ]
     },
     "metadata": {},
     "output_type": "display_data"
    }
   ],
   "source": [
    "import sys\n",
    "import numpy as np\n",
    "import petsc4py\n",
    "from petsc4py import PETSc\n",
    "from matplotlib import pyplot as plt\n",
    "import HeatTransfer1D\n",
    "\n",
    "petsc4py.init(sys.argv)\n",
    "\n",
    "import numpy as np\n",
    "from petsc4py import PETSc\n",
    "\n",
    "\n",
    "class Heat(object):\n",
    "    def __init__(self, N, temperature_left, temperature_right, conductivity, source_term, wall_length):\n",
    "\n",
    "        self.N  = N              \n",
    "        self.h  = wall_length/(N - 1)\n",
    "        self.TL = temperature_left\n",
    "        self.TR = temperature_right\n",
    "        self.k  = conductivity\n",
    "        self.Q  = source_term\n",
    "\n",
    "\n",
    "    def evalFunction(self, ts, t, x, xdot, f):\n",
    "        h  = self.h        \n",
    "        TL = self.TL\n",
    "        TR = self.TR\n",
    "        k  = self.k\n",
    "        Q  = self.Q \n",
    "        with x as u, xdot as udot:            \n",
    "            f.setArray(udot*h - Q*h + (u[1:-1] -  u[:-2])/h - (u[2:] - u[1:-1])/h) # Scale equation by volume element\n",
    "            f[ 0] = TL - u[ 0]\n",
    "            f[-1] = TR - u[-1]\n",
    "\n",
    "            \n",
    "def transient_heat_transfer_1D(\n",
    "    nx, temperature_left, \n",
    "    temperature_right, \n",
    "    conductivity,\n",
    "    source_term,\n",
    "    wall_length,\n",
    "    final_time,\n",
    "    initial_time_step\n",
    "    ):\n",
    "    \n",
    "    # Time Stepper (TS) for ODE and DAE\n",
    "    # DAE - https://en.wikipedia.org/wiki/Differential_algebraic_equation\n",
    "    # https://www.mcs.anl.gov/petsc/petsc-current/docs/manualpages/TS/\n",
    "    ts = PETSc.TS().create()\n",
    "\n",
    "    # http://www.mcs.anl.gov/petsc/petsc-current/docs/manualpages/DM/index.html\n",
    "    da = PETSc.DMDA().create([nx],dof=1, stencil_width=1, stencil_type='star')\n",
    "    ts.setDM(da)\n",
    "    \n",
    "    ode = Heat(nx, temperature_left, temperature_right, conductivity, source_term, wall_length)\n",
    "    \n",
    "    F = da.createGlobalVec()\n",
    "    \n",
    "    # http://www.mcs.anl.gov/petsc/petsc-current/docs/manualpages/TS/TSSetIFunction.html\n",
    "    #ts.setIFunction(HeatTransfer1D.formFunction, F,\n",
    "    #                 args=(temperature_left, temperature_right, conductivity, source_term, wall_length))\n",
    "    ts.setIFunction(ode.evalFunction, F)\n",
    "    \n",
    "    x = da.createGlobalVec()\n",
    "    \n",
    "    x[...] = temperature_left\n",
    "\n",
    "    # http://www.mcs.anl.gov/petsc/petsc-current/docs/manualpages/TS/TSSetDuration.html\n",
    "    ts.setDuration(max_time=final_time, max_steps=None)\n",
    "    \n",
    "    # http://www.mcs.anl.gov/petsc/petsc-current/docs/manualpages/TS/TSSetExactFinalTime.html\n",
    "    ts.setExactFinalTime(ts.ExactFinalTimeOption.STEPOVER)\n",
    "    \n",
    "    # http://www.mcs.anl.gov/petsc/petsc-current/docs/manualpages/TS/TSSetInitialTimeStep.html\n",
    "    ts.setInitialTimeStep(initial_time=0.0, initial_time_step=initial_time_step)\n",
    "    \n",
    "    # http://www.mcs.anl.gov/petsc/petsc-current/docs/manualpages/TS/TSSetProblemType.html\n",
    "    ts.setProblemType(ts.ProblemType.NONLINEAR)\n",
    "    \n",
    "    # Another way to set the solve type is through PETSc.Options()\n",
    "    #ts.setType(ts.Type.CRANK_NICOLSON)\n",
    "    #ts.setType(ts.Type.THETA)\n",
    "    #ts.setTheta(theta=0.9999)\n",
    "    #ts.setType(ts.Type.EIMEX) # http://www.mcs.anl.gov/petsc/petsc-current/docs/manualpages/TS/TSEIMEX.html\n",
    "    #ts.setType(ts.Type.BDF      )\n",
    "\n",
    "    ts.setFromOptions()\n",
    "\n",
    "    ts.solve(x)\n",
    "\n",
    "    return x\n",
    "\n",
    "options = PETSc.Options()\n",
    "options.clear()\n",
    "\n",
    "dt = 0.001                 # [s]\n",
    "dt_min = 1e-4              # [s]\n",
    "dt_max = 0.1               # [s]\n",
    "\n",
    "#ts_type = \"beuler\"\n",
    "#ts_type = \"pseudo\" # http://www.mcs.anl.gov/petsc/petsc-current/docs/manualpages/TS/TSPSEUDO.html\n",
    "#ts_type = \"cn\"\n",
    "ts_type = \"bdf\"\n",
    "options.setValue('-ts_type', ts_type)\n",
    "\n",
    "options.setValue('-ts_bdf_order', 3) # https://en.wikipedia.org/wiki/Backward_differentiation_formula\n",
    "options.setValue('-ts_adapt_type', 'basic') # basic or none\n",
    "options.setValue('-ts_bdf_adapt', '')\n",
    "options.setValue('-ts_adapt_dt_min', dt_min)\n",
    "options.setValue('-ts_adapt_dt_max', dt_max)\n",
    "options.setValue('-ts_monitor', None)\n",
    "\n",
    "#options.delValue('-ts_bdf_adapt')\n",
    "\n",
    "nx = 1000\n",
    "temperature_left  = 0.0    # [degC]\n",
    "temperature_right = 50.0   # [degC]\n",
    "conductivity = 1.0         # [W/(m.K)]\n",
    "source_term = 100.0          # [W/m3]\n",
    "wall_length = 1.0          # [m]\n",
    "\n",
    "time_intervals = [0.001, 0.01, 0.05, 0.1, 1.0]\n",
    "sols = []\n",
    "for final_time in time_intervals:\n",
    "    sol = transient_heat_transfer_1D(\n",
    "        nx, temperature_left, \n",
    "        temperature_right, \n",
    "        conductivity,\n",
    "        source_term,\n",
    "        wall_length,\n",
    "        final_time,\n",
    "        dt\n",
    "        )\n",
    "    sols.append(sol[...])\n",
    "    \n",
    "x = np.linspace(0, wall_length, nx)\n",
    "for sol in sols:\n",
    "    plt.plot(x, sol)\n",
    "plt.show()"
   ]
  },
  {
   "cell_type": "code",
   "execution_count": 17,
   "metadata": {
    "collapsed": false
   },
   "outputs": [],
   "source": [
    "da = PETSc.DMDA().create([nx],dof=1, stencil_width=1, stencil_type='star')"
   ]
  },
  {
   "cell_type": "code",
   "execution_count": 18,
   "metadata": {
    "collapsed": false
   },
   "outputs": [
    {
     "data": {
      "text/plain": [
       "<petsc4py.PETSc.LGMap at 0x1eaded89bf8>"
      ]
     },
     "execution_count": 18,
     "metadata": {},
     "output_type": "execute_result"
    }
   ],
   "source": [
    "da.getLGMap()"
   ]
  },
  {
   "cell_type": "code",
   "execution_count": 14,
   "metadata": {
    "collapsed": false
   },
   "outputs": [
    {
     "data": {
      "text/plain": [
       "<petsc4py.PETSc.Mat at 0x1eaddcae570>"
      ]
     },
     "execution_count": 14,
     "metadata": {},
     "output_type": "execute_result"
    }
   ],
   "source": [
    "PETSc.Mat().create()"
   ]
  }
 ],
 "metadata": {
  "anaconda-cloud": {},
  "kernelspec": {
   "display_name": "Python [default]",
   "language": "python",
   "name": "python3"
  },
  "language_info": {
   "codemirror_mode": {
    "name": "ipython",
    "version": 3
   },
   "file_extension": ".py",
   "mimetype": "text/x-python",
   "name": "python",
   "nbconvert_exporter": "python",
   "pygments_lexer": "ipython3",
   "version": "3.5.2"
  }
 },
 "nbformat": 4,
 "nbformat_minor": 0
}
