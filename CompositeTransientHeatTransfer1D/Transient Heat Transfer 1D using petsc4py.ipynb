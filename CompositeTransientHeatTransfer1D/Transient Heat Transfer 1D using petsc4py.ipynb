{
 "cells": [
  {
   "cell_type": "markdown",
   "metadata": {
    "slideshow": {
     "slide_type": "slide"
    }
   },
   "source": [
    "Transient Heat Transfer 1D\n",
    "================"
   ]
  },
  {
   "cell_type": "markdown",
   "metadata": {
    "slideshow": {
     "slide_type": "subslide"
    }
   },
   "source": [
    "Let's get the process ID so that we can attach a debug later."
   ]
  },
  {
   "cell_type": "code",
   "execution_count": 1,
   "metadata": {
    "collapsed": false,
    "slideshow": {
     "slide_type": "slide"
    }
   },
   "outputs": [
    {
     "name": "stdout",
     "output_type": "stream",
     "text": [
      "11132\n"
     ]
    }
   ],
   "source": [
    "import os\n",
    "print(os.getpid())"
   ]
  },
  {
   "cell_type": "code",
   "execution_count": 2,
   "metadata": {
    "collapsed": false,
    "slideshow": {
     "slide_type": "slide"
    }
   },
   "outputs": [
    {
     "name": "stdout",
     "output_type": "stream",
     "text": [
      "running build_ext\n",
      "running build_src\n",
      "build_src\n",
      "building extension \"HeatTransfer1D\" sources\n",
      "build_src: building npy-pkg config files\n",
      "No module named 'numpy.distutils._msvccompiler' in numpy.distutils; trying from distutils\n",
      "customize MSVCCompiler\n",
      "customize MSVCCompiler using build_ext\n"
     ]
    }
   ],
   "source": [
    "# First you need to call\n",
    "!python setup.py build_ext --inplace"
   ]
  },
  {
   "cell_type": "code",
   "execution_count": 10,
   "metadata": {
    "collapsed": false,
    "slideshow": {
     "slide_type": "slide"
    }
   },
   "outputs": [
    {
     "data": {
      "image/png": "[encoded data removed]",
      "text/plain": [
       "<matplotlib.figure.Figure at 0x1d03af1e588>"
      ]
     },
     "metadata": {},
     "output_type": "display_data"
    }
   ],
   "source": [
    "import sys\n",
    "import numpy as np\n",
    "import petsc4py\n",
    "from petsc4py import PETSc\n",
    "from matplotlib import pyplot as plt\n",
    "import HeatTransfer1D\n",
    "\n",
    "\n",
    "\n",
    "petsc4py.init(sys.argv)\n",
    "\n",
    "\n",
    "class Heat(object):\n",
    "    def __init__(self, dm, temperature_presc, conductivity, source_term, wall_length):\n",
    "\n",
    "        self.dm = dm \n",
    "        self.k  = conductivity\n",
    "        self.Q  = source_term\n",
    "        self.L  = wall_length\n",
    "        self.Tpresc = temperature_presc\n",
    "\n",
    "    def evalFunction(self, ts, t, x, xdot, f):\n",
    "        dm = self.dm\n",
    "        Tpresc = self.Tpresc\n",
    "        k  = self.k\n",
    "        Q  = self.Q \n",
    "        L  = self.L\n",
    "\n",
    "        with dm.getAccess(x, locs=None) as Xs:\n",
    "            with dm.getAccess(xdot, locs=None) as X_ts:\n",
    "                with dm.getAccess(f, locs=None) as Fs:\n",
    "                    dx_avg = 0.0\n",
    "                    size = len(Fs)\n",
    "                    Fs[size-1][0] = 0.0\n",
    "                    \n",
    "                    for X, X_t, F, T in zip(Xs[:-1], X_ts[:-1], Fs[:-1], Tpresc):   \n",
    "                        udot = X_t\n",
    "                        u = X            \n",
    "                        \n",
    "                        dx = L / F.size\n",
    "                        ff = np.zeros(F.size)\n",
    "                        ff[1:-1] = udot[1:-1]*dx - Q*dx + k * (u[1:-1] -  u[:-2])/dx - k * (u[2:] - u[1:-1])/dx\n",
    "                        \n",
    "                        ff[ 0] = udot[       0]*dx - Q*dx - k * (u[       1] - u[       0])/dx\n",
    "                        ff[-1] = udot[u.size-1]*dx - Q*dx + k * (u[u.size-1] - u[u.size-2])/dx\n",
    "                        \n",
    "                        # Internal Node\n",
    "                        flux_term = k * (Xs[size-1][0] - u[u.size-1]) / dx\n",
    "                        Fs[size-1][0] += +flux_term\n",
    "                        ff[-1]  += -flux_term\n",
    "                        \n",
    "                        # BC's\n",
    "                        ff[0] += +k * (u[0] - T) / (0.5*dx)\n",
    "                        \n",
    "                        F.setArray(ff)\n",
    "                        dx_avg += dx\n",
    "                    dx_avg /= len(Xs[:-1])\n",
    "                    \n",
    "                    Fs[size-1][0] += udot[size-1]*dx_avg - Q*dx_avg\n",
    "\n",
    "\n",
    "def transient_heat_transfer_1D(\n",
    "    npipes, nx, \n",
    "    initial_temperature,\n",
    "    temperature_presc, \n",
    "    conductivity,\n",
    "    source_term,\n",
    "    wall_length,\n",
    "    final_time,\n",
    "    initial_time_step,\n",
    "    impl_python=False\n",
    "    ):\n",
    "    \n",
    "    # Time Stepper (TS) for ODE and DAE\n",
    "    # DAE - https://en.wikipedia.org/wiki/Differential_algebraic_equation\n",
    "    # https://www.mcs.anl.gov/petsc/petsc-current/docs/manualpages/TS/\n",
    "    ts = PETSc.TS().create()\n",
    "\n",
    "    # http://www.mcs.anl.gov/petsc/petsc-current/docs/manualpages/DM/index.html\n",
    "    #\n",
    "    pipes = []\n",
    "    for i in range(npipes):\n",
    "        pipes.append(PETSc.DMDA().create([nx],dof=1, stencil_width=1, stencil_type='star'))\n",
    "    \n",
    "    # Create a redundant DM, there is no petsc4py interface (yet)\n",
    "    # so we created our own wrapper\n",
    "    # http://www.mcs.anl.gov/petsc/petsc-current/docs/manualpages/DM/DMREDUNDANT.html\n",
    "    dmredundant = PETSc.DM().create()\n",
    "    dmredundant.setType(dmredundant.Type.REDUNDANT)\n",
    "    HeatTransfer1D.redundantSetSize(dmredundant, 0, 1)\n",
    "    dmredundant.setDimension(1)\n",
    "    dmredundant.setUp()\n",
    "\n",
    "    # http://www.mcs.anl.gov/petsc/petsc-current/docs/manualpages/DM/DMCOMPOSITE.html\n",
    "    dm = PETSc.DMComposite().create()\n",
    "    \n",
    "    for pipe in pipes:        \n",
    "        dm.addDM(pipe)\n",
    "\n",
    "    dm.addDM(dmredundant)\n",
    "    HeatTransfer1D.compositeSetCoupling(dm)\n",
    "    \n",
    "    ts.setDM(dm)\n",
    "\n",
    "    F = dm.createGlobalVec()\n",
    "\n",
    "    if impl_python:        \n",
    "        ode = Heat(dm, temperature_presc, conductivity, source_term, wall_length)\n",
    "        ts.setIFunction(ode.evalFunction, F)\n",
    "    else:\n",
    "        # http://www.mcs.anl.gov/petsc/petsc-current/docs/manualpages/TS/TSSetIFunction.html\n",
    "        ts.setIFunction(HeatTransfer1D.formFunction, F,\n",
    "                         args=(conductivity, source_term, wall_length, temperature_presc))    \n",
    "    \n",
    "    x = dm.createGlobalVec()\n",
    "    \n",
    "    x[...] = initial_temperature\n",
    "    \n",
    "    #HeatTransfer1D.formInitGuess(x, dm, initial_temperature)\n",
    "\n",
    "    # http://www.mcs.anl.gov/petsc/petsc-current/docs/manualpages/TS/TSSetDuration.html\n",
    "    ts.setDuration(max_time=final_time, max_steps=None)\n",
    "    \n",
    "    # http://www.mcs.anl.gov/petsc/petsc-current/docs/manualpages/TS/TSSetExactFinalTime.html\n",
    "    ts.setExactFinalTime(ts.ExactFinalTimeOption.STEPOVER)\n",
    "    \n",
    "    # http://www.mcs.anl.gov/petsc/petsc-current/docs/manualpages/TS/TSSetInitialTimeStep.html\n",
    "    ts.setInitialTimeStep(initial_time=0.0, initial_time_step=initial_time_step)\n",
    "    \n",
    "    # http://www.mcs.anl.gov/petsc/petsc-current/docs/manualpages/TS/TSSetProblemType.html\n",
    "    ts.setProblemType(ts.ProblemType.NONLINEAR)\n",
    "    \n",
    "    # Another way to set the solve type is through PETSc.Options()\n",
    "    #ts.setType(ts.Type.CRANK_NICOLSON)\n",
    "    #ts.setType(ts.Type.THETA)\n",
    "    #ts.setTheta(theta=0.9999)\n",
    "    #ts.setType(ts.Type.EIMEX) # http://www.mcs.anl.gov/petsc/petsc-current/docs/manualpages/TS/TSEIMEX.html\n",
    "    #ts.setType(ts.Type.BDF      )\n",
    "\n",
    "    ts.setFromOptions()\n",
    "\n",
    "    ts.solve(x)\n",
    "\n",
    "    return x\n",
    "\n",
    "options = PETSc.Options()\n",
    "options.clear()\n",
    "\n",
    "dt = 0.001                 # [s]\n",
    "dt_min = 1e-4              # [s]\n",
    "dt_max = 0.1               # [s]\n",
    "\n",
    "#ts_type = \"beuler\"\n",
    "#ts_type = \"pseudo\" # http://www.mcs.anl.gov/petsc/petsc-current/docs/manualpages/TS/TSPSEUDO.html\n",
    "#ts_type = \"cn\"\n",
    "ts_type = \"bdf\"\n",
    "options.setValue('-ts_type', ts_type)\n",
    "\n",
    "options.setValue('-ts_bdf_order', 3) # https://en.wikipedia.org/wiki/Backward_differentiation_formula\n",
    "options.setValue('-ts_adapt_type', 'basic') # basic or none\n",
    "options.setValue('-ts_bdf_adapt', '')\n",
    "options.setValue('-ts_adapt_dt_min', dt_min)\n",
    "options.setValue('-ts_adapt_dt_max', dt_max)\n",
    "options.setValue('-ts_monitor', None)\n",
    "\n",
    "dense = False\n",
    "if dense:\n",
    "    options.setValue('-dmcomposite_dense_jacobian', None)\n",
    "else:\n",
    "    options.delValue('-dmcomposite_dense_jacobian')\n",
    "\n",
    "options.setValue('-ts_fd_color', None)\n",
    "\n",
    "#options.setValue('-mat_view', 'draw')\n",
    "#options.setValue('-draw_pause', 100)\n",
    "#options.setValue('-is_coloring_view', '')\n",
    "#options.setValue('-help', None)\n",
    "\n",
    "npipes = 4\n",
    "nx = 50\n",
    "temperature_presc = np.array([2.0, 50.0, 55.0, 60.0]) # [degC]\n",
    "initial_temperature = 10.0 # [degC]\n",
    "conductivity = 1.0         # [W/(m.K)]\n",
    "source_term = 00.0          # [W/m3]\n",
    "wall_length = 1.0          # [m]\n",
    "\n",
    "#time_intervals = [0.001, 0.01, 0.05, 0.1, 1.0]\n",
    "time_intervals = [1.0]\n",
    "sols = []\n",
    "for final_time in time_intervals:\n",
    "    sol = transient_heat_transfer_1D(\n",
    "        npipes, nx, \n",
    "        initial_temperature,\n",
    "        temperature_presc, \n",
    "        conductivity,\n",
    "        source_term,\n",
    "        wall_length,\n",
    "        final_time,\n",
    "        dt,\n",
    "        impl_python=True\n",
    "        )\n",
    "    sols.append(sol[...])\n",
    "    \n",
    "x = np.linspace(0, npipes*wall_length, npipes*nx + 1)\n",
    "for sol in sols:\n",
    "    plt.plot(x, sol)\n",
    "plt.show()"
   ]
  },
  {
   "cell_type": "code",
   "execution_count": 19,
   "metadata": {
    "collapsed": true
   },
   "outputs": [],
   "source": [
    "nx = 5000"
   ]
  },
  {
   "cell_type": "code",
   "execution_count": 20,
   "metadata": {
    "collapsed": false
   },
   "outputs": [
    {
     "name": "stdout",
     "output_type": "stream",
     "text": [
      "1 loop, best of 3: 6.35 s per loop\n"
     ]
    }
   ],
   "source": [
    "%%timeit\n",
    "sol = transient_heat_transfer_1D(\n",
    "        npipes, nx, \n",
    "        initial_temperature,\n",
    "        temperature_presc, \n",
    "        conductivity,\n",
    "        source_term,\n",
    "        wall_length,\n",
    "        final_time,\n",
    "        dt,\n",
    "        impl_python=True\n",
    "        )"
   ]
  },
  {
   "cell_type": "code",
   "execution_count": 21,
   "metadata": {
    "collapsed": false
   },
   "outputs": [
    {
     "name": "stdout",
     "output_type": "stream",
     "text": [
      "1 loop, best of 3: 2.48 s per loop\n"
     ]
    }
   ],
   "source": [
    "%%timeit\n",
    "sol = transient_heat_transfer_1D(\n",
    "        npipes, nx, \n",
    "        initial_temperature,\n",
    "        temperature_presc, \n",
    "        conductivity,\n",
    "        source_term,\n",
    "        wall_length,\n",
    "        final_time,\n",
    "        dt,\n",
    "        impl_python=False\n",
    "        )"
   ]
  },
  {
   "cell_type": "code",
   "execution_count": null,
   "metadata": {
    "collapsed": true
   },
   "outputs": [],
   "source": []
  }
 ],
 "metadata": {
  "anaconda-cloud": {},
  "kernelspec": {
   "display_name": "Python [default]",
   "language": "python",
   "name": "python3"
  },
  "language_info": {
   "codemirror_mode": {
    "name": "ipython",
    "version": 3
   },
   "file_extension": ".py",
   "mimetype": "text/x-python",
   "name": "python",
   "nbconvert_exporter": "python",
   "pygments_lexer": "ipython3",
   "version": "3.5.2"
  }
 },
 "nbformat": 4,
 "nbformat_minor": 0
}
